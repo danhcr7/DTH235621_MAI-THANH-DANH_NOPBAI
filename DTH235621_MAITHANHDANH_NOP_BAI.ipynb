{
  "nbformat": 4,
  "nbformat_minor": 0,
  "metadata": {
    "colab": {
      "provenance": []
    },
    "kernelspec": {
      "name": "python3",
      "display_name": "Python 3"
    },
    "language_info": {
      "name": "python"
    }
  },
  "cells": [
    {
      "cell_type": "code",
      "execution_count": 11,
      "metadata": {
        "colab": {
          "base_uri": "https://localhost:8080/"
        },
        "id": "qkIF7VJI8w3M",
        "outputId": "6e378c19-fcaf-496e-abec-553242033568"
      },
      "outputs": [
        {
          "output_type": "stream",
          "name": "stdout",
          "text": [
            "10 100\n"
          ]
        }
      ],
      "source": [
        "a = 10\n",
        "b = 100\n",
        "print(a, b, sep = ' ', end = '\\n')"
      ]
    },
    {
      "cell_type": "markdown",
      "source": [
        "# Đây là ghi chú số 1"
      ],
      "metadata": {
        "id": "tmlLuctz8-Fq"
      }
    },
    {
      "cell_type": "code",
      "source": [
        "a = 1\n",
        "b = 2\n",
        "tong = a + b\n",
        "hieu = a - b\n",
        "tich = a * b\n",
        "thuong = a / b\n",
        "print(tong, hieu, tich, thuong)"
      ],
      "metadata": {
        "colab": {
          "base_uri": "https://localhost:8080/"
        },
        "id": "JU-fwKAH8y9S",
        "outputId": "39c054ca-71d5-43c1-b7e4-b1c5e19b7e36"
      },
      "execution_count": 12,
      "outputs": [
        {
          "output_type": "stream",
          "name": "stdout",
          "text": [
            "3 -1 2 0.5\n"
          ]
        }
      ]
    },
    {
      "cell_type": "code",
      "source": [
        "print(\"DTH235621 | MAI THÀNH DANH | DH24TH1 | KHOA: CÔNG NGHỆ THÔNG TIN | EMAIL: danh_dth235621@student.agu.edu.vn\")"
      ],
      "metadata": {
        "colab": {
          "base_uri": "https://localhost:8080/"
        },
        "id": "S0ri2Ai09O1L",
        "outputId": "7aed07d9-0457-4385-c177-33a5950a48dd"
      },
      "execution_count": 13,
      "outputs": [
        {
          "output_type": "stream",
          "name": "stdout",
          "text": [
            "DTH235621 | MAI THÀNH DANH | DH24TH1 | KHOA: CÔNG NGHỆ THÔNG TIN | EMAIL: danh_dth235621@student.agu.edu.vn\n"
          ]
        }
      ]
    },
    {
      "cell_type": "code",
      "source": [
        "for i in range(1, 11, 1):\n",
        "  print(i, end = ' ')"
      ],
      "metadata": {
        "colab": {
          "base_uri": "https://localhost:8080/"
        },
        "id": "th1KJTBG9fOT",
        "outputId": "ee149091-1f49-405b-bbea-abe0bf900405"
      },
      "execution_count": 14,
      "outputs": [
        {
          "output_type": "stream",
          "name": "stdout",
          "text": [
            "1 2 3 4 5 6 7 8 9 10 "
          ]
        }
      ]
    },
    {
      "cell_type": "code",
      "source": [
        "print(\"Hello Word! MAI THÀNH DANH ! 0369115971 ! THÍCH ĂN UỐNG, DU LỊCH, CỜ VUA, LIÊN QUÂN MOBILE\")"
      ],
      "metadata": {
        "colab": {
          "base_uri": "https://localhost:8080/"
        },
        "id": "_8k4xrLb94tz",
        "outputId": "8eb9fe2a-6759-4670-912d-eb07ca80fb23"
      },
      "execution_count": 15,
      "outputs": [
        {
          "output_type": "stream",
          "name": "stdout",
          "text": [
            "Hello Word! MAI THÀNH DANH ! 0369115971 ! THÍCH ĂN UỐNG, DU LỊCH, CỜ VUA, LIÊN QUÂN MOBILE\n"
          ]
        }
      ]
    }
  ]
}