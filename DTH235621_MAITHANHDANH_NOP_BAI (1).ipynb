{
  "nbformat": 4,
  "nbformat_minor": 0,
  "metadata": {
    "colab": {
      "provenance": []
    },
    "kernelspec": {
      "name": "python3",
      "display_name": "Python 3"
    },
    "language_info": {
      "name": "python"
    }
  },
  "cells": [
    {
      "cell_type": "code",
      "execution_count": null,
      "metadata": {
        "colab": {
          "base_uri": "https://localhost:8080/"
        },
        "id": "PsKpgjFCStu8",
        "outputId": "d6cb8ce7-c559-4dcd-cb82-d9dff710fb86"
      },
      "outputs": [
        {
          "output_type": "stream",
          "name": "stdout",
          "text": [
            "Mai Thành Danh xin chào thế giới!\n"
          ]
        }
      ],
      "source": [
        "print(\"Mai Thành Danh xin chào thế giới!\")"
      ]
    },
    {
      "cell_type": "code",
      "source": [
        "a = 100\n",
        "b = 200\n",
        "tong = a + b\n",
        "hieu = a - b\n",
        "tich = a * b\n",
        "thuong = a / b\n",
        "print(tong, hieu, tich, thuong)"
      ],
      "metadata": {
        "colab": {
          "base_uri": "https://localhost:8080/"
        },
        "id": "D9u5JoRKUCvz",
        "outputId": "0ee47b89-9de5-4ed6-8f9f-6e34bd109970"
      },
      "execution_count": null,
      "outputs": [
        {
          "output_type": "stream",
          "name": "stdout",
          "text": [
            "300 -100 20000 0.5\n"
          ]
        }
      ]
    },
    {
      "cell_type": "markdown",
      "source": [
        "# Tính Tổng, Hiệu, Tích, Thương 2 số a và b."
      ],
      "metadata": {
        "id": "vo9XQHU0UMt7"
      }
    },
    {
      "cell_type": "markdown",
      "source": [
        "\"\"\" Ghi chú \"\"\"\n"
      ],
      "metadata": {
        "id": "DPUsgHuETBAB"
      }
    },
    {
      "cell_type": "code",
      "source": [
        "a = 1\n",
        "b = 10\n",
        "for i in range(1, 11, 1):\n",
        "  print(i, end = ' ')"
      ],
      "metadata": {
        "colab": {
          "base_uri": "https://localhost:8080/"
        },
        "id": "AxKCkNMMV5RK",
        "outputId": "74b90b72-73ab-4495-d224-9f246771c8e7"
      },
      "execution_count": null,
      "outputs": [
        {
          "output_type": "stream",
          "name": "stdout",
          "text": [
            "1 2 3 4 5 6 7 8 9 10 "
          ]
        }
      ]
    },
    {
      "cell_type": "markdown",
      "source": [
        "# Vòng lặp for đếm số từ 1 đến 10\n"
      ],
      "metadata": {
        "id": "YgWSIMPLWCZB"
      }
    },
    {
      "cell_type": "code",
      "source": [
        "print(\"Enstein từng nói : Một người chưa bao giờ sai lầm là người chưa thử gì cả\"\")"
      ],
      "metadata": {
        "id": "cW6MH7W1TGN5"
      },
      "execution_count": null,
      "outputs": []
    },
    {
      "cell_type": "code",
      "source": [],
      "metadata": {
        "id": "nw7NmtFZS1LT"
      },
      "execution_count": null,
      "outputs": []
    }
  ]
}